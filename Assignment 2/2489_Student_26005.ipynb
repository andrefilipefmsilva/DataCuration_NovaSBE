version https://git-lfs.github.com/spec/v1
oid sha256:3aca943e6d97add04822ab4430e88069b2233532b228b6fa67ffc0f4cb7deb8a
size 48850602
