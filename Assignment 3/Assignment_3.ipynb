{
 "cells": [
  {
   "cell_type": "markdown",
   "metadata": {},
   "source": [
    "## Assignment 3 Data Analysis using Pandas\n",
    "\n",
    "This assignment will contain 1 question with details as below. The due date is October 16 (Friday), 2020 23:59PM. Each late day will result in 20% loss of total points."
   ]
  },
  {
   "cell_type": "markdown",
   "metadata": {},
   "source": [
    "### Question 1 (100 points) Celluloid ceiling\n",
    "\n",
    "Wonder Woman             |  Captain Marvel\n",
    ":-------------------------:|:-------------------------:\n",
    "![wonderwoman](https://upload.wikimedia.org/wikipedia/en/e/ed/Wonder_Woman_%282017_film%29.jpg) | ![marvel](https://upload.wikimedia.org/wikipedia/pt/5/59/Captain_Marvel_%282018%29.jpg)\n",
    "\n",
    "Women are involved in the film industry in all roles, including as film directors, actresses, cinematographers, film producers, film critics, and other film industry professions, though women have been underrepresented in all these positions. Studies found that women have always had a presence in film acting, but have consistently been underrepresented, and on average significantly less well paid. \n",
    "\n",
    "In 2015, Forbes reported that \"...just 21 of the 100 top-grossing films of 2014 featured a female lead or co-lead, while only 28.1% of characters in 100 top-grossing films were female... This means it’s much rarer for women to get the sort of blockbuster role which would warrant the massive backend deals many male counterparts demand (Tom Cruise in Mission: Impossible or Robert Downey Jr. in Iron Man, for example)\".\n",
    "\n",
    "Also, Forbes' analysis of US acting salaries in 2013 determined that the \"...men on Forbes’ list of top-paid actors for that year made 2½ times as much money as the top-paid actresses. That means that Hollywood's best-compensated actresses made just 40 cents for every dollar that the best-compensated men made. \n",
    "\n",
    "\n",
    "In this assignment, we want to examine whether and how women representation is lacking in the film industry. We will adopt The Bechdel test as a measure of the representation of women in the film industry. The test is named after the American cartoonist Alison Bechdel in whose 1985 comic strip Dykes to Watch Out For the test first appeared. **A movie is said to meet the Bechdel test  following three criteria: (1) it has to have at least two women in it, who (2) who talk to each other, about (3) something besides a man.**\n",
    "\n",
    "We are going to obtain the data ourselves to perform the analysis. Specifically, we will retrieve the movie metadata from IMDB (Internet Movie Database), an online database of information related to films, television programs, home videos, video games, and streaming content online – including cast, production crew and personal biographies, plot summaries, trivia, ratings, and fan and critical reviews. As of January 2020, IMDb has approximately 6.5 million titles (including episodes) and 10.4 million personalities in its database, as well as 83 million registered users.\n",
    "\n",
    "\n",
    "The IMDb Top 250 is a list of the top rated 250 films, based on ratings by the registered users of the website using the methods described. We will focus on these famous movies in this analysis:"
   ]
  },
  {
   "cell_type": "markdown",
   "metadata": {},
   "source": [
    "**Question 1.1** (20 points): We will retrieve the metadata of IMDb Top 250 movies from the [IMDb charts](https://www.imdb.com/chart/top/). For each movie on the list, we can scrape the following characteristics from the information page. For example, from the [page of top rated movie \"The Shawshank Redemption\"](https://www.imdb.com/title/tt0111161/?pf_rd_m=A2FGELUUNOQJNL&pf_rd_p=e31d89dd-322d-4646-8962-327b42fe94b1&pf_rd_r=F4QFC0SVZN1HTDHCY3C0&pf_rd_s=center-1&pf_rd_t=15506&pf_rd_i=top&ref_=chttp_tt_1), we want to extract the metadata about this movie as:\n",
    "- IMDb id (0111161)\n",
    "- Movie name (The Shawshank Redemption)\n",
    "- Year (1994)\n",
    "- Director (Frank Darabont)\n",
    "- Starring (Tim Robbins, Morgan Freeman, Bob Gunton)\n",
    "- Rating (9.3)\n",
    "- Number of reviews (2,291,324)\n",
    "- Genres (Drama)\n",
    "- Country (USA)\n",
    "- Language (English)\n",
    "- Budget (\\$25,000,000)\n",
    "- Box Office Revenue (\\$28,815,291)\n",
    "- Runtime (142 min)\n",
    "\n",
    "![imdb](https://mrfloris.com/files/images/imdb-top250-page-start.png)\n",
    "\n",
    "\n",
    "After scraping the 250 movies, save the data as a dataframe ```imdb_top_movies```. \n",
    "Also, saving the dataframe to a local file ```imdb_top_movies.csv``` so that later you can load it without scraping the website twice.\n",
    "\n",
    "Hint: You can get the links to these movies from the IMDb top chart page, and then scrape each movie page by sending the request to these links. At each movie page, the information requested are located at different sections. "
   ]
  },
  {
   "cell_type": "code",
   "execution_count": 1,
   "metadata": {},
   "outputs": [],
   "source": [
    "import pandas as pd\n",
    "import numpy as np\n",
    "import requests\n",
    "from bs4 import BeautifulSoup\n",
    "from collections import Counter, OrderedDict\n",
    "from scipy import stats\n",
    "import json"
   ]
  },
  {
   "cell_type": "code",
   "execution_count": 2,
   "metadata": {},
   "outputs": [
    {
     "data": {
      "text/plain": [
       "200"
      ]
     },
     "execution_count": 2,
     "metadata": {},
     "output_type": "execute_result"
    }
   ],
   "source": [
    "# Question 1.1\n",
    "top250page= requests.get(\"https://www.imdb.com/chart/top/\")\n",
    "top250page.status_code"
   ]
  },
  {
   "cell_type": "code",
   "execution_count": 3,
   "metadata": {},
   "outputs": [],
   "source": [
    "soup = BeautifulSoup(top250page.content, \"html.parser\")"
   ]
  },
  {
   "cell_type": "markdown",
   "metadata": {},
   "source": [
    "#### __Note__: I have noticed that the last movie from the Top 250 changes frequently (2/3 days at most). As such, the movies included on the dataset will vary depending on the date the code is run."
   ]
  },
  {
   "cell_type": "code",
   "execution_count": 4,
   "metadata": {},
   "outputs": [],
   "source": [
    "# Retrieving Page Links\n",
    "\n",
    "page_links=[]\n",
    "all_links = soup.select(\".titleColumn a\")\n",
    "for i in range(len(all_links)):\n",
    "    page_links.append(\"https://www.imdb.com\"+ all_links[i]['href'])"
   ]
  },
  {
   "cell_type": "code",
   "execution_count": 5,
   "metadata": {},
   "outputs": [],
   "source": [
    "# Gathering IMDB ids\n",
    "\n",
    "movie_id=[]\n",
    "all_links = soup.select(\".titleColumn a\")\n",
    "for i in range(len(all_links)):\n",
    "    movie_id.append(all_links[i]['href'])\n",
    "    movie_id[i]= movie_id[i][9:]\n",
    "    movie_id[i]= movie_id[i][:-1]"
   ]
  },
  {
   "cell_type": "code",
   "execution_count": 6,
   "metadata": {},
   "outputs": [],
   "source": [
    "# Movie Names\n",
    "\n",
    "movie_names=[]\n",
    "for i in range(len(all_links)):\n",
    "    movie_names.append(all_links[i].get_text())"
   ]
  },
  {
   "cell_type": "code",
   "execution_count": 7,
   "metadata": {},
   "outputs": [],
   "source": [
    "# Director and Stars names\n",
    "\n",
    "all_names = []\n",
    "director_names = []\n",
    "starring_names = []\n",
    "for i in range(len(all_links)):\n",
    "    all_names.append(all_links[i]['title'].split(\",\"))\n",
    "\n",
    "\n",
    "for i in range(len(all_names)):\n",
    "    director_names.append(all_names[i][0])\n",
    "    starring_names.append(all_names[i][1:])\n",
    "    \n",
    "for i in range(len(director_names)):\n",
    "    director_names[i] = director_names[i].replace(\"(dir.)\",\"\")\n",
    "    \n",
    "for i in range(len(starring_names)):\n",
    "    starring_names[i] = str(starring_names[i])\n",
    "    starring_names[i] = starring_names[i].replace(\"['\",\"\").replace(\"]\",\"\")\\\n",
    "    .replace(\"']\",\"\").replace('\"','').replace('[ ','').replace(\"'\",\"\")\\\n",
    "    .replace(\"  \",\" \").replace('\"]','').replace(\"[' \",\"\").replace(' \"\"','')\\\n",
    "    .replace(' \"]', '').replace('\" ','').replace(' \"','').rstrip().lstrip()"
   ]
  },
  {
   "cell_type": "code",
   "execution_count": 8,
   "metadata": {},
   "outputs": [],
   "source": [
    "# Launch Year\n",
    "\n",
    "years_list = soup.find_all(class_=\"secondaryInfo\")\n",
    "year=[]\n",
    "for i in range(250):\n",
    "    year.append(int(years_list[i].get_text().replace(\"(\",\"\").replace(\")\",\"\")))"
   ]
  },
  {
   "cell_type": "code",
   "execution_count": 9,
   "metadata": {},
   "outputs": [],
   "source": [
    "# IMDB Ratings\n",
    "\n",
    "ratings=[]\n",
    "\n",
    "html_ratings = soup.select(\".ratingColumn.imdbRating strong\")\n",
    "\n",
    "for i in range(len(html_ratings)):\n",
    "    ratings.append(html_ratings[i].get_text())\n",
    "\n",
    "ratings = list(map(float, ratings))"
   ]
  },
  {
   "cell_type": "code",
   "execution_count": 10,
   "metadata": {},
   "outputs": [],
   "source": [
    "# Number of Reviews\n",
    "\n",
    "reviews_number = []\n",
    "\n",
    "for i in range(len(html_ratings)):\n",
    "    reviews_number.append(html_ratings[i][\"title\"].strip(\" user ratings\"))\n",
    "\n",
    "for i in range(len(reviews_number)):\n",
    "    reviews_number[i] = reviews_number[i][13:]\n",
    "\n",
    "for i in range(len(reviews_number)):\n",
    "    reviews_number[i] = reviews_number[i].replace(\",\", \"\")\n",
    "    \n",
    "reviews_count = [int(i) for i in reviews_number]"
   ]
  },
  {
   "cell_type": "code",
   "execution_count": 11,
   "metadata": {},
   "outputs": [],
   "source": [
    "# Retrieving all 250 movies html \n",
    "\n",
    "movie_pages=[]\n",
    "for i in range(len(page_links)):\n",
    "    movie_pages.append(requests.get(page_links[i]))"
   ]
  },
  {
   "cell_type": "code",
   "execution_count": 12,
   "metadata": {},
   "outputs": [],
   "source": [
    "# Parsing all html\n",
    "\n",
    "soup=[]\n",
    "\n",
    "for i in range(len(movie_pages)):\n",
    "    soup.append(BeautifulSoup(movie_pages[i].content, \"html.parser\"))"
   ]
  },
  {
   "cell_type": "code",
   "execution_count": 13,
   "metadata": {},
   "outputs": [],
   "source": [
    "# Genres\n",
    "\n",
    "genre_list=[]\n",
    "\n",
    "for i in range(len(movie_pages)):\n",
    "    temp= []\n",
    "    for j in range(len(soup[i].select(\".subtext a\"))-1):\n",
    "        temp.append(soup[i].select(\".subtext a\")[j].get_text())\n",
    "    genre_list.append(temp)\n",
    "    \n",
    "for i in range(len(genre_list)):\n",
    "    genre_list[i] = str(genre_list[i])\n",
    "    genre_list[i] = genre_list[i].replace(\"['\",\"\").replace(\"']\",\"\")\\\n",
    "    .replace(\"'\",\"\").replace(\"  \",\" \").rstrip().lstrip()\n",
    "for i in range(len(genre_list)):\n",
    "    genre_list[i]= genre_list[i].split(\",\")\n",
    "    \n",
    "    \n",
    "genre_1=[]\n",
    "genre_2=[]\n",
    "genre_3=[]\n",
    "   \n",
    "for i in range(len(genre_list)):\n",
    "    if len(genre_list[i]) ==1:\n",
    "        genre_1.append(genre_list[i][0])\n",
    "        genre_2.append(\"null\")\n",
    "        genre_3.append(\"null\")\n",
    "    elif len(genre_list[i]) == 2:\n",
    "        genre_1.append(genre_list[i][0])\n",
    "        genre_2.append(genre_list[i][1])\n",
    "        genre_3.append(\"null\")\n",
    "    elif len(genre_list[i]) == 3:\n",
    "        genre_1.append(genre_list[i][0])\n",
    "        genre_2.append(genre_list[i][1])\n",
    "        genre_3.append(genre_list[i][2])\n",
    "\n",
    "for i in range(len(genre_1)):\n",
    "    genre_1[i].replace(\" \",\"\")\n",
    "    \n",
    "for i in range(len(genre_2)):\n",
    "    genre_2[i] = genre_2[i].replace(\" \",\"\")\n",
    "\n",
    "for i in range(len(genre_3)):\n",
    "    genre_3[i] = genre_3[i].replace(\" \",\"\")\n",
    "    \n",
    "for i in range(len(genre_2)):\n",
    "    if genre_2[i] == \"null\":\n",
    "        genre_2[i] = np.nan\n",
    "\n",
    "for i in range(len(genre_3)):\n",
    "    if genre_3[i] == \"null\":\n",
    "        genre_3[i] = np.nan"
   ]
  },
  {
   "cell_type": "code",
   "execution_count": 14,
   "metadata": {},
   "outputs": [],
   "source": [
    "# Runtime\n",
    "\n",
    "run_time=[]\n",
    "temp=[]\n",
    "for i in range(len(movie_pages)):\n",
    "    temp = soup[i].find_all(\"time\")\n",
    "    temp = temp[1].get_text()\n",
    "    temp = temp.replace(\" min\",\"\")\n",
    "    temp = int(temp)\n",
    "    run_time.append(temp)"
   ]
  },
  {
   "cell_type": "code",
   "execution_count": 15,
   "metadata": {},
   "outputs": [],
   "source": [
    "# Countries\n",
    "\n",
    "all_countries=[]\n",
    "\n",
    "for i in range(len(movie_pages)):\n",
    "    for x in soup[i].find_all(class_ = \"txt-block\"):\n",
    "        temp=[]\n",
    "        if \"Country\" in x.text:\n",
    "            temp.append(x.text)\n",
    "            temp = temp[0].lstrip(\"Country:\\n\")\n",
    "            temp = temp.rstrip(\"\\n\")\n",
    "            temp = temp.replace(\"|\",\",\")\n",
    "            temp = temp.replace(\"\\n\",\"\")\n",
    "            all_countries.append(temp)"
   ]
  },
  {
   "cell_type": "code",
   "execution_count": 16,
   "metadata": {},
   "outputs": [
    {
     "data": {
      "text/plain": [
       "251"
      ]
     },
     "execution_count": 16,
     "metadata": {},
     "output_type": "execute_result"
    }
   ],
   "source": [
    "len(all_countries)"
   ]
  },
  {
   "cell_type": "markdown",
   "metadata": {},
   "source": [
    "##### __Note__: From this code (and depending on the time that the requests are run) I obtain a list that varies from 250 to 253 elements. I should have 250. I deal with this by removing the elements that are longer than expected.\n",
    "\n",
    "##### This is not foolproof, but it worked well in this specific situation."
   ]
  },
  {
   "cell_type": "code",
   "execution_count": 17,
   "metadata": {},
   "outputs": [],
   "source": [
    "for i in range(len(all_countries)):\n",
    "    try:\n",
    "        if len(all_countries[i]) > 40:\n",
    "            all_countries.pop(i)\n",
    "    except IndexError:\n",
    "            pass"
   ]
  },
  {
   "cell_type": "code",
   "execution_count": 18,
   "metadata": {},
   "outputs": [
    {
     "data": {
      "text/plain": [
       "250"
      ]
     },
     "execution_count": 18,
     "metadata": {},
     "output_type": "execute_result"
    }
   ],
   "source": [
    "len(all_countries)"
   ]
  },
  {
   "cell_type": "code",
   "execution_count": 19,
   "metadata": {},
   "outputs": [],
   "source": [
    "# Languages\n",
    "\n",
    "languages=[None] * 250\n",
    "for i in range(len(movie_pages)):\n",
    "    for x in soup[i].find_all(class_ = \"txt-block\"):\n",
    "        temp=[]\n",
    "        if \"Language\" in x.text:\n",
    "            temp.append(x.text)\n",
    "            temp = temp[0].lstrip(\"Language:\\n\")\n",
    "            temp = temp.rstrip(\"\\n\")\n",
    "            temp = temp.replace(\"|\",\",\")\n",
    "            temp = temp.replace(\"\\n\",\"\")\n",
    "            languages[i] = temp"
   ]
  },
  {
   "cell_type": "code",
   "execution_count": 20,
   "metadata": {},
   "outputs": [],
   "source": [
    "# Budgets\n",
    "\n",
    "budget= [0] * 250\n",
    "\n",
    "for i in range(len(movie_pages)):\n",
    "    for x in soup[i].find_all(class_ = \"txt-block\"):\n",
    "        temp=[]\n",
    "        if \"Budget\" in x.text:\n",
    "            temp.append(x.text)\n",
    "            temp = temp[0].lstrip(\"Budget:\\n\")\n",
    "            temp = temp.replace(\"(estimated)\",\"\")\n",
    "            temp = temp.rstrip()\n",
    "            temp = temp.replace(\",\",\"\")\n",
    "            if \"$\" in temp:\n",
    "                temp = temp.replace(\"$\",\"\")\n",
    "                budget[i] = float(temp)\n",
    "            elif \"TRL\" in temp:\n",
    "                temp = temp.replace(\"TRL\",\"\")\n",
    "                budget[i] = float(temp) * 0.13\n",
    "            elif \"JPY\" in temp:\n",
    "                temp = temp.replace(\"JPY\",\"\")\n",
    "                #Yen to dollar conversion rate\n",
    "                budget[i] = float(temp) * 0.0095\n",
    "            elif \"RL\" in temp:\n",
    "                temp = temp.replace(\"RL\",\"\")\n",
    "                temp = float(temp) * 0.18\n",
    "                budget[i] = temp\n",
    "            elif \"FRF\" in temp:\n",
    "                temp = temp.replace(\"FRF\",\"\")\n",
    "                budget[i] = float(temp)* 1.18 * 0.152449\n",
    "            elif \"EUR\" in temp:\n",
    "                temp = temp.replace(\"EUR\",\"\")\n",
    "                temp = float(temp)* 1.18\n",
    "                budget[i] = float(temp)* 1.18\n",
    "            elif \"INR\" in temp:\n",
    "                temp = temp.replace(\"INR\",\"\")\n",
    "                budget[i] = float(temp)*0.014\n",
    "            elif \"DEM\" in temp:\n",
    "                temp = temp.replace(\"DEM\",\"\")\n",
    "                budget[i] = float(temp) * 0.60482\n",
    "            elif \"GBP\" in temp:\n",
    "                temp = temp.replace(\"GBP\",\"\")\n",
    "                budget[i]= float(temp) * 1.30\n",
    "            elif \"RUR\" in temp:\n",
    "                temp = temp.replace(\"RUR\",\"\")\n",
    "                budget[i] = float(temp) * 0.013\n",
    "            elif \"AUD\" in temp:\n",
    "                temp = temp.replace(\"AUD\",\"\")\n",
    "                budget[i] = float(temp) * 0.72\n",
    "            elif \"KRW\" in temp:\n",
    "                temp = temp.replace(\"KRW\",\"\")\n",
    "                budget[i] = float(temp) * 0.00087\n",
    "                \n",
    "# Later, I will need to replace the zeros (value appended when Budget info is not available) with `np.nan`."
   ]
  },
  {
   "cell_type": "code",
   "execution_count": 21,
   "metadata": {},
   "outputs": [],
   "source": [
    "# Box Office Revenue\n",
    "\n",
    "global_revenue = [0] * 250\n",
    "\n",
    "for i in range(len(movie_pages)):\n",
    "    for x in soup[i].find_all(class_ = \"txt-block\"):\n",
    "        temp=[]\n",
    "        if \"Cumulative Worldwide Gross\" in x.text:\n",
    "            temp.append(x.text)\n",
    "            temp = temp[0].lstrip(\"Cumulative Worldwide Gross:\\n\")\n",
    "            temp = temp.rstrip()\n",
    "            temp = temp.replace(\",\",\"\")\n",
    "            temp = temp.replace(\"$\",\"\")\n",
    "            global_revenue[i] = int(temp)\n",
    "            \n",
    "# Later, I will need to replace the zeros (value appended when Box Office Revenue info is not available) with `np.nan`."
   ]
  },
  {
   "cell_type": "code",
   "execution_count": 22,
   "metadata": {},
   "outputs": [],
   "source": [
    "# Merging data into Pandas Data Frame\n",
    "\n",
    "imdb_top_movies = pd.DataFrame({\"Movie Name\": movie_names, \"Year\": year,\n",
    "                                \"Director\": director_names, \"Starring\": starring_names,\n",
    "                                \"Rating\": ratings, \"Number of Reviews\": reviews_number,\n",
    "                                \"All Genres\": genre_list,\n",
    "                                \"Genre 1\": genre_1, \"Genre 2\": genre_2, \n",
    "                                \"Genre 3\": genre_3 ,\"Country\": all_countries, \n",
    "                                \"Language\": languages, \"Budget ($)\": budget, \n",
    "                                \"Box Office Revenue ($)\":global_revenue, \"Runtime\": run_time},\n",
    "                               index = movie_id)\n",
    "\n",
    "imdb_top_movies.index.name = \"IMDB id\"\n",
    "\n",
    "imdb_top_movies[\"Budget ($)\"].replace(0, np.nan, inplace=True)\n",
    "imdb_top_movies[\"Box Office Revenue ($)\"].replace(0, np.nan, inplace=True)"
   ]
  },
  {
   "cell_type": "markdown",
   "metadata": {},
   "source": [
    "**Question 1.2** (5 points) If you group the movies by release years, show the number of movies at each decade in a descendingu order."
   ]
  },
  {
   "cell_type": "code",
   "execution_count": 23,
   "metadata": {},
   "outputs": [],
   "source": [
    "#Question 1.2\n",
    "\n",
    "imdb_top_movies[\"Decades\"] = imdb_top_movies[\"Year\"]//10*10"
   ]
  },
  {
   "cell_type": "code",
   "execution_count": 24,
   "metadata": {},
   "outputs": [
    {
     "data": {
      "text/plain": [
       "Decades\n",
       "2010    50\n",
       "2000    48\n",
       "1990    40\n",
       "1980    29\n",
       "1950    23\n",
       "1970    18\n",
       "1960    18\n",
       "1940    10\n",
       "1920     7\n",
       "1930     6\n",
       "2020     1\n",
       "Name: Decades, dtype: int64"
      ]
     },
     "execution_count": 24,
     "metadata": {},
     "output_type": "execute_result"
    }
   ],
   "source": [
    "imdb_top_movies.groupby(\"Decades\")[\"Decades\"].count().sort_values(ascending= False)"
   ]
  },
  {
   "cell_type": "markdown",
   "metadata": {},
   "source": [
    "**Quesion 1.3** (5 points) Show the number of movies by the distribution of runtime at quartile (0-25%, 25-50%, 50-75%, 75-100%)."
   ]
  },
  {
   "cell_type": "code",
   "execution_count": 25,
   "metadata": {},
   "outputs": [
    {
     "data": {
      "text/plain": [
       "Quartile_Runtime\n",
       "Fourth    63\n",
       "Third     62\n",
       "Second    62\n",
       "First     63\n",
       "Name: Runtime, dtype: int64"
      ]
     },
     "execution_count": 25,
     "metadata": {},
     "output_type": "execute_result"
    }
   ],
   "source": [
    "# Question 1.3\n",
    "\n",
    "dist_labels = [\"Fourth\", \"Third\", \"Second\", \"First\"]\n",
    "imdb_top_movies[\"Quartile_Runtime\"] = pd.qcut(imdb_top_movies[\"Runtime\"], q=[0, .25, .5, .75, 1], labels=dist_labels)\n",
    "imdb_top_movies.groupby(\"Quartile_Runtime\")[\"Runtime\"].count()"
   ]
  },
  {
   "cell_type": "markdown",
   "metadata": {},
   "source": [
    "**Question 1.4** (5 points) What is the proportion of movies that have Budget higher than 75% of all movies (i.e. the third quartile)?"
   ]
  },
  {
   "cell_type": "code",
   "execution_count": 26,
   "metadata": {},
   "outputs": [],
   "source": [
    "# Quesion 1.4\n",
    "\n",
    "dist_labels = [\"Fourth\", \"Third\", \"Second\", \"First\"]\n",
    "imdb_top_movies[\"Movies by Budget\"] = pd.qcut(imdb_top_movies[\"Budget ($)\"], q= [0, .25, .5, 0.75, 1], labels = dist_labels)"
   ]
  },
  {
   "cell_type": "code",
   "execution_count": 27,
   "metadata": {},
   "outputs": [
    {
     "data": {
      "text/plain": [
       "57"
      ]
     },
     "execution_count": 27,
     "metadata": {},
     "output_type": "execute_result"
    }
   ],
   "source": [
    "# Absolute number of movies\n",
    "imdb_top_movies.groupby(\"Movies by Budget\")[\"Budget ($)\"].count()[\"Third\"]"
   ]
  },
  {
   "cell_type": "code",
   "execution_count": 28,
   "metadata": {},
   "outputs": [],
   "source": [
    "# Relative number of movies\n",
    "relative_nr = imdb_top_movies.groupby(\"Movies by Budget\")[\"Budget ($)\"].count()[\"Third\"] / 250 "
   ]
  },
  {
   "cell_type": "code",
   "execution_count": 29,
   "metadata": {},
   "outputs": [
    {
     "name": "stdout",
     "output_type": "stream",
     "text": [
      "The proportion of movies that have Budget higher than 75% of all movies is 0.228.\n"
     ]
    }
   ],
   "source": [
    "print(f\"The proportion of movies that have Budget higher than 75% of all movies is {relative_nr}.\")"
   ]
  },
  {
   "cell_type": "markdown",
   "metadata": {},
   "source": [
    "**Question 1.5** (5 points) Show the top 10 most popular actor/actresses in terms of number of movies they have starred. "
   ]
  },
  {
   "cell_type": "code",
   "execution_count": 30,
   "metadata": {},
   "outputs": [],
   "source": [
    "# Question 1.5\n",
    "\n",
    "list_star1=[]\n",
    "list_star2=[]\n",
    "\n",
    "for i in range(len(imdb_top_movies)):\n",
    "        list_star1.append(imdb_top_movies[\"Starring\"][i].split(\",\")[0])\n",
    "        list_star2.append(imdb_top_movies[\"Starring\"][i].split(\",\")[1].lstrip())"
   ]
  },
  {
   "cell_type": "code",
   "execution_count": 31,
   "metadata": {},
   "outputs": [],
   "source": [
    "list_stars = list_star1 + list_star2"
   ]
  },
  {
   "cell_type": "code",
   "execution_count": 32,
   "metadata": {},
   "outputs": [
    {
     "data": {
      "text/plain": [
       "[('Robert De Niro', 9),\n",
       " ('Tom Hanks', 6),\n",
       " ('Charles Chaplin', 6),\n",
       " ('Harrison Ford', 6),\n",
       " ('Christian Bale', 5),\n",
       " ('Clint Eastwood', 5),\n",
       " ('Leonardo DiCaprio', 5),\n",
       " ('Al Pacino', 4),\n",
       " ('Brad Pitt', 4),\n",
       " ('Toshirô Mifune', 4)]"
      ]
     },
     "execution_count": 32,
     "metadata": {},
     "output_type": "execute_result"
    }
   ],
   "source": [
    "Counter(list_stars).most_common(10)"
   ]
  },
  {
   "cell_type": "markdown",
   "metadata": {},
   "source": [
    "**Question 1.6** (5 points) Show the top 5 directors with the most total box office revenues."
   ]
  },
  {
   "cell_type": "code",
   "execution_count": 33,
   "metadata": {},
   "outputs": [
    {
     "data": {
      "text/plain": [
       "Director\n",
       "Anthony Russo         4.846160e+09\n",
       "Christopher Nolan     4.143007e+09\n",
       "Steven Spielberg      3.055116e+09\n",
       "Peter Jackson         2.973633e+09\n",
       "Pete Docter           2.172152e+09\n",
       "Name: Box Office Revenue ($), dtype: float64"
      ]
     },
     "execution_count": 33,
     "metadata": {},
     "output_type": "execute_result"
    }
   ],
   "source": [
    "# Question 1.6\n",
    "\n",
    "imdb_top_movies.groupby(\"Director\")[\"Box Office Revenue ($)\"].sum().sort_values(ascending=False).head(5)"
   ]
  },
  {
   "cell_type": "markdown",
   "metadata": {},
   "source": [
    "**Question 1.7** (5 points) Show the average ratings of movies across the genres and decades."
   ]
  },
  {
   "cell_type": "code",
   "execution_count": 34,
   "metadata": {
    "scrolled": true
   },
   "outputs": [],
   "source": [
    "# Question 1.7\n",
    "\n",
    "# Genres\n",
    "\n",
    "unordered_unique_genres = list(set(genre_1 + genre_2 + genre_3))\n",
    "\n",
    "unordered_unique_genres.pop(0)\n",
    "\n",
    "unique_genres = []\n",
    "\n",
    "for i in range(len(unordered_unique_genres)):\n",
    "    unique_genres.append(unordered_unique_genres[i].replace(\" \",\"\"))\n",
    "    \n",
    "\n",
    "ratings_dict = OrderedDict.fromkeys(unique_genres, 0)\n",
    "list_keys = list(ratings_dict)\n",
    "list_keys.sort()\n",
    "films_per_genre_dict = OrderedDict.fromkeys(unique_genres,0)\n",
    "\n",
    "for i in range(len(imdb_top_movies)):\n",
    "    for x in range(len(list_keys)):\n",
    "        if imdb_top_movies[\"Genre 1\"][i] == list_keys[x]:\n",
    "            ratings_dict[list_keys[x]] += imdb_top_movies[\"Rating\"][i]\n",
    "            films_per_genre_dict[list_keys[x]] += 1\n",
    "            \n",
    "        if imdb_top_movies[\"Genre 2\"][i] == list_keys[x]:\n",
    "            ratings_dict[list_keys[x]] += imdb_top_movies[\"Rating\"][i]\n",
    "            films_per_genre_dict[list_keys[x]] += 1\n",
    "            \n",
    "        if imdb_top_movies[\"Genre 3\"][i] == list_keys[x]:\n",
    "            ratings_dict[list_keys[x]] += imdb_top_movies[\"Rating\"][i]\n",
    "            films_per_genre_dict[list_keys[x]] += 1\n",
    "\n",
    "genres_avg_ratings = {a: round(float(ratings_dict[a] / films_per_genre_dict[a]),2)\\\n",
    "                      for a in ratings_dict if a in films_per_genre_dict}\n",
    "genres_avg_ratings = sorted(genres_avg_ratings.items())"
   ]
  },
  {
   "cell_type": "code",
   "execution_count": 35,
   "metadata": {},
   "outputs": [
    {
     "data": {
      "text/plain": [
       "[('Action', 8.33),\n",
       " ('Adventure', 8.28),\n",
       " ('Animation', 8.22),\n",
       " ('Biography', 8.22),\n",
       " ('Comedy', 8.19),\n",
       " ('Crime', 8.28),\n",
       " ('Drama', 8.26),\n",
       " ('Family', 8.23),\n",
       " ('Fantasy', 8.29),\n",
       " ('Film-Noir', 8.23),\n",
       " ('History', 8.21),\n",
       " ('Horror', 8.35),\n",
       " ('Music', 8.4),\n",
       " ('Musical', 8.2),\n",
       " ('Mystery', 8.26),\n",
       " ('Romance', 8.2),\n",
       " ('Sci-Fi', 8.28),\n",
       " ('Sport', 8.09),\n",
       " ('Thriller', 8.21),\n",
       " ('War', 8.23),\n",
       " ('Western', 8.35)]"
      ]
     },
     "execution_count": 35,
     "metadata": {},
     "output_type": "execute_result"
    }
   ],
   "source": [
    "# Genres\n",
    "\n",
    "genres_avg_ratings"
   ]
  },
  {
   "cell_type": "code",
   "execution_count": 36,
   "metadata": {},
   "outputs": [
    {
     "data": {
      "text/plain": [
       "Decades\n",
       "1920    8.10\n",
       "1930    8.25\n",
       "1940    8.24\n",
       "1950    8.23\n",
       "1960    8.26\n",
       "1970    8.31\n",
       "1980    8.22\n",
       "1990    8.37\n",
       "2000    8.26\n",
       "2010    8.19\n",
       "2020    8.50\n",
       "Name: Rating, dtype: float64"
      ]
     },
     "execution_count": 36,
     "metadata": {},
     "output_type": "execute_result"
    }
   ],
   "source": [
    "# Decades\n",
    "\n",
    "round(imdb_top_movies.groupby(\"Decades\")[\"Rating\"].mean(), 2)"
   ]
  },
  {
   "cell_type": "markdown",
   "metadata": {},
   "source": [
    "**Question 1.8** (5 points) Creat a new column ```ROI``` that measures the return on investment using the (box revenue-budget)/budget, and compare the ROI between movies in English and those in non-English. Use the t-test to examine whether such difference is statistically significant (You can use ```scipy.stats.ttest_ind``` to test the mean difference of two distributions)"
   ]
  },
  {
   "cell_type": "markdown",
   "metadata": {},
   "source": [
    "##### __Note__: I will present two different solutions to this question. \n",
    "##### The first, considering \"movie in english\" as a movie in which the language \"English\" is present, even if other languages are present too.\n",
    "##### The second, considering that if there are english and other languages present, it is labeled non-english."
   ]
  },
  {
   "cell_type": "code",
   "execution_count": 37,
   "metadata": {},
   "outputs": [
    {
     "data": {
      "text/plain": [
       "Ttest_indResult(statistic=-1.3676897103304824, pvalue=0.17283053389639766)"
      ]
     },
     "execution_count": 37,
     "metadata": {},
     "output_type": "execute_result"
    }
   ],
   "source": [
    "# Solution 1 (If English present, consider English)\n",
    "\n",
    "imdb_top_movies[\"ROI\"] = imdb_top_movies[\"Box Office Revenue ($)\"]/imdb_top_movies[\"Budget ($)\"]\n",
    "\n",
    "english = []\n",
    "other_langs = []\n",
    "\n",
    "\n",
    "for i in range(len(imdb_top_movies)):\n",
    "    if \"English\" in imdb_top_movies[\"Language\"].iloc[i]:\n",
    "        english.append(imdb_top_movies[\"ROI\"].iloc[i])\n",
    "    else:\n",
    "        other_langs.append(imdb_top_movies[\"ROI\"].iloc[i])\n",
    "\n",
    "english = np.array(english)\n",
    "other_langs = np.array(other_langs)\n",
    "\n",
    "stats.ttest_ind(english,other_langs, nan_policy=\"omit\")"
   ]
  },
  {
   "cell_type": "markdown",
   "metadata": {},
   "source": [
    "##### As seen from the t-test, as we have a p-value of >0.05 and also >0.1, we cannot reject the null hypothesis that the ROI for english and other languages is on average the same, all else constant."
   ]
  },
  {
   "cell_type": "code",
   "execution_count": 38,
   "metadata": {},
   "outputs": [
    {
     "data": {
      "text/plain": [
       "Ttest_indResult(statistic=1.8673107495970935, pvalue=0.06321282822691394)"
      ]
     },
     "execution_count": 38,
     "metadata": {},
     "output_type": "execute_result"
    }
   ],
   "source": [
    "# Solution 2 (If english and more languages, consider non-english)\n",
    "\n",
    "imdb_top_movies[\"ROI\"] = imdb_top_movies[\"Box Office Revenue ($)\"]/imdb_top_movies[\"Budget ($)\"]\n",
    "\n",
    "english = []\n",
    "other_langs = []\n",
    "\n",
    "for i in range(len(imdb_top_movies)):\n",
    "    if imdb_top_movies[\"Language\"].iloc[i] == \"English\":\n",
    "        english.append(imdb_top_movies[\"ROI\"].iloc[i])\n",
    "    else:\n",
    "        other_langs.append(imdb_top_movies[\"ROI\"].iloc[i])\n",
    "        \n",
    "english = np.array(english)\n",
    "other_langs = np.array(other_langs)\n",
    "\n",
    "stats.ttest_ind(english,other_langs, nan_policy=\"omit\")"
   ]
  },
  {
   "cell_type": "markdown",
   "metadata": {},
   "source": [
    "##### Here, the results are different. We reject the null hypothesis for a significance level of 10% (however, we would not reject it for the 5% level).\n",
    "\n",
    "##### This means there is a statistically significant different between the ROI for english and non-english movies, for a significance level of 10%.  "
   ]
  },
  {
   "cell_type": "markdown",
   "metadata": {},
   "source": [
    "**Question 1.9** (5 points) Do the commercially successfuly movies also receive higher ratings. Check the correlations between box office revenues and ratings using Pearman and Spearman correlations."
   ]
  },
  {
   "cell_type": "code",
   "execution_count": 39,
   "metadata": {},
   "outputs": [
    {
     "data": {
      "text/plain": [
       "0.2366342853827657"
      ]
     },
     "execution_count": 39,
     "metadata": {},
     "output_type": "execute_result"
    }
   ],
   "source": [
    "imdb_top_movies[\"Box Office Revenue ($)\"].corr(imdb_top_movies[\"Rating\"], method = \"pearson\")"
   ]
  },
  {
   "cell_type": "markdown",
   "metadata": {},
   "source": [
    "##### There seems to be a low correlation between Box Office Revenue and Rating, using the Pearson correlation method. The correlation is positive, but small."
   ]
  },
  {
   "cell_type": "code",
   "execution_count": 40,
   "metadata": {},
   "outputs": [
    {
     "data": {
      "text/plain": [
       "0.25247283563144834"
      ]
     },
     "execution_count": 40,
     "metadata": {},
     "output_type": "execute_result"
    }
   ],
   "source": [
    "imdb_top_movies[\"Box Office Revenue ($)\"].corr(imdb_top_movies[\"Rating\"], method = \"spearman\")"
   ]
  },
  {
   "cell_type": "markdown",
   "metadata": {},
   "source": [
    "##### The same as above is true, using the Spearman method. There is a slightly higher correlation, but still not very high."
   ]
  },
  {
   "cell_type": "markdown",
   "metadata": {},
   "source": [
    "**Question 1.10** (10 points) Now let's retrieve data from Bechdel Test Movie website [for each movie](https://bechdeltest.com/). You can send the requests to the API: https://bechdeltest.com/api/v1/doc#getMovieByImdbId. For example, for the movie The Shawshank Redemption (the IMDb id: 0111161), you can simply call: http://bechdeltest.com/api/v1/getMovieByImdbId?imdbid=0111161. \n",
    "\n",
    "Create a dataframe ```bechdel_imdb_top``` that merge the bechdel test info with the ```imdb_top_movies``` show how many top 250 movies are also in the bechdel test website."
   ]
  },
  {
   "cell_type": "code",
   "execution_count": 41,
   "metadata": {},
   "outputs": [],
   "source": [
    "responses=[]\n",
    "\n",
    "for i in range(len(movie_id)):\n",
    "    url =\"http://bechdeltest.com/api/v1/getMovieByImdbId?imdbid=\"+str(movie_id[i])\n",
    "    responses.append(requests.get(url))\n",
    "\n",
    "\n",
    "bechdel_info=[]\n",
    "for i in range(len(responses)):\n",
    "    bechdel_info.append(json.loads(responses[i].text))\n",
    "\n",
    "bechdel_imdb_top  = pd.DataFrame(data = bechdel_info)\n",
    "bechdel_imdb_top.rename(columns={\"rating\": \"Bechdel_test\"}, inplace=True)\n",
    "bechdel_test = np.array(bechdel_imdb_top[\"Bechdel_test\"])\n",
    "imdb_top_movies[\"Bechdel Test\"] = bechdel_test"
   ]
  },
  {
   "cell_type": "code",
   "execution_count": 42,
   "metadata": {},
   "outputs": [],
   "source": [
    "counter=0\n",
    "for i in range(len(bechdel_info)):\n",
    "    if len(bechdel_info[i]) > 3:\n",
    "           counter+=1"
   ]
  },
  {
   "cell_type": "code",
   "execution_count": 43,
   "metadata": {},
   "outputs": [
    {
     "name": "stdout",
     "output_type": "stream",
     "text": [
      "Out of the Top 250 IMDB movies, 236 are in the bechdel test website.\n"
     ]
    }
   ],
   "source": [
    "print(f\"Out of the Top 250 IMDB movies, {counter} are in the bechdel test website.\")"
   ]
  },
  {
   "cell_type": "markdown",
   "metadata": {},
   "source": [
    "**Question 1.11** (5 points) Show how many movies in terms of percentage) that has passed the test in different ways (Number from 0 to 3 (0 means no two women, 1 means no talking, 2 means talking about a man, 3 means it passes the test)"
   ]
  },
  {
   "cell_type": "code",
   "execution_count": 44,
   "metadata": {},
   "outputs": [
    {
     "data": {
      "text/plain": [
       "0.324"
      ]
     },
     "execution_count": 44,
     "metadata": {},
     "output_type": "execute_result"
    }
   ],
   "source": [
    "# Pass at 1\n",
    "\n",
    "imdb_top_movies.loc[imdb_top_movies[\"Bechdel Test\"] == 1][\"Bechdel Test\"].count() / 250 "
   ]
  },
  {
   "cell_type": "code",
   "execution_count": 45,
   "metadata": {},
   "outputs": [
    {
     "data": {
      "text/plain": [
       "0.092"
      ]
     },
     "execution_count": 45,
     "metadata": {},
     "output_type": "execute_result"
    }
   ],
   "source": [
    "# Pass at 2\n",
    "\n",
    "imdb_top_movies.loc[imdb_top_movies[\"Bechdel Test\"] == 2][\"Bechdel Test\"].count() / 250"
   ]
  },
  {
   "cell_type": "code",
   "execution_count": 46,
   "metadata": {},
   "outputs": [
    {
     "data": {
      "text/plain": [
       "0.332"
      ]
     },
     "execution_count": 46,
     "metadata": {},
     "output_type": "execute_result"
    }
   ],
   "source": [
    "# Pass at 3\n",
    "\n",
    "imdb_top_movies.loc[imdb_top_movies[\"Bechdel Test\"] == 3][\"Bechdel Test\"].count() / 250 "
   ]
  },
  {
   "cell_type": "markdown",
   "metadata": {},
   "source": [
    "**Question 1.12** (5 points) Show the percenage of movies given differen genres that has passed the test in different ways (Number from 0 to 3 (0 means no two women, 1 means no talking, 2 means talking about a man, 3 means it passes the test))"
   ]
  },
  {
   "cell_type": "code",
   "execution_count": 47,
   "metadata": {},
   "outputs": [],
   "source": [
    "films_per_genre={}\n",
    "\n",
    "for key in unique_genres:\n",
    "    films_per_genre[key] = 0    \n",
    "    \n",
    "for i in range(len(imdb_top_movies)):\n",
    "    for j in range(len(unique_genres)):\n",
    "        if imdb_top_movies[\"Genre 1\"][i] == unique_genres[j]:\n",
    "            films_per_genre[imdb_top_movies[\"Genre 1\"][i]]+=1\n",
    "            \n",
    "        if imdb_top_movies[\"Genre 2\"][i] == unique_genres[j]:\n",
    "            films_per_genre[imdb_top_movies[\"Genre 2\"][i]]+=1\n",
    "    \n",
    "        if imdb_top_movies[\"Genre 3\"][i] == unique_genres[j]:\n",
    "            films_per_genre[imdb_top_movies[\"Genre 3\"][i]]+=1    \n",
    "\n",
    "            \n",
    "pass1_genre1 = dict(imdb_top_movies.loc[imdb_top_movies['Bechdel Test'] ==1][[\"Genre 1\"]]\\\n",
    "                    .sort_values(\"Genre 1\").groupby(\"Genre 1\")[\"Genre 1\"].count())\n",
    "pass1_genre2 = dict(imdb_top_movies.loc[imdb_top_movies['Bechdel Test'] ==1][[\"Genre 2\"]]\\\n",
    "                    .sort_values(\"Genre 2\").groupby(\"Genre 2\")[\"Genre 2\"].count())\n",
    "pass1_genre3 = dict(imdb_top_movies.loc[imdb_top_movies['Bechdel Test'] ==1][[\"Genre 3\"]]\\\n",
    "                    .sort_values(\"Genre 3\").groupby(\"Genre 3\")[\"Genre 3\"].count())\n",
    "\n",
    "pass2_genre1 = dict(imdb_top_movies.loc[imdb_top_movies['Bechdel Test'] ==2][[\"Genre 1\"]]\\\n",
    "                    .sort_values(\"Genre 1\").groupby(\"Genre 1\")[\"Genre 1\"].count())\n",
    "pass2_genre2 = dict(imdb_top_movies.loc[imdb_top_movies['Bechdel Test'] ==2][[\"Genre 2\"]]\\\n",
    "                    .sort_values(\"Genre 2\").groupby(\"Genre 2\")[\"Genre 2\"].count())\n",
    "pass2_genre3 = dict(imdb_top_movies.loc[imdb_top_movies['Bechdel Test'] ==2][[\"Genre 3\"]]\\\n",
    "                    .sort_values(\"Genre 3\").groupby(\"Genre 3\")[\"Genre 3\"].count())\n",
    "\n",
    "pass3_genre1 = dict(imdb_top_movies.loc[imdb_top_movies['Bechdel Test'] ==3][[\"Genre 1\"]]\\\n",
    "                    .sort_values(\"Genre 1\").groupby(\"Genre 1\")[\"Genre 1\"].count())\n",
    "pass3_genre2 = dict(imdb_top_movies.loc[imdb_top_movies['Bechdel Test'] ==3][[\"Genre 2\"]]\\\n",
    "                    .sort_values(\"Genre 2\").groupby(\"Genre 2\")[\"Genre 2\"].count())\n",
    "pass3_genre3 = dict(imdb_top_movies.loc[imdb_top_movies['Bechdel Test'] ==3][[\"Genre 3\"]]\\\n",
    "                    .sort_values(\"Genre 3\").groupby(\"Genre 3\")[\"Genre 3\"].count())\n",
    "\n",
    "\n",
    "final_countlist_pass1 = Counter(pass1_genre1) + Counter(pass1_genre2) + Counter(pass1_genre3)\n",
    "final_countlist_pass2 = Counter(pass2_genre1) + Counter(pass2_genre2) + Counter(pass2_genre3)\n",
    "final_countlist_pass3 = Counter(pass3_genre1) + Counter(pass3_genre2) + Counter(pass3_genre3)\n",
    "\n",
    "percent_pass1 = {k: round(float(final_countlist_pass1[k])/films_per_genre[k], 4) for k in final_countlist_pass1}\n",
    "percent_pass2 = {k: round(float(final_countlist_pass2[k])/films_per_genre[k], 4) for k in final_countlist_pass2}\n",
    "percent_pass3 = {k: round(float(final_countlist_pass3[k])/films_per_genre[k], 4) for k in final_countlist_pass3}\n",
    "\n",
    "for i in range(len(unique_genres)):\n",
    "    if unique_genres[i] not in percent_pass1.keys():\n",
    "        percent_pass1[unique_genres[i]] = 0\n",
    "        \n",
    "    if unique_genres[i] not in percent_pass2.keys():\n",
    "        percent_pass2[unique_genres[i]] = 0\n",
    "        \n",
    "    if unique_genres[i] not in percent_pass3.keys():\n",
    "        percent_pass3[unique_genres[i]] = 0\n",
    "\n",
    "percent_pass1 = OrderedDict(sorted(percent_pass1.items(), key=lambda x: x[0]))\n",
    "percent_pass2 = OrderedDict(sorted(percent_pass2.items(), key=lambda x: x[0]))\n",
    "percent_pass3 = OrderedDict(sorted(percent_pass3.items(), key=lambda x: x[0]))"
   ]
  },
  {
   "cell_type": "code",
   "execution_count": 48,
   "metadata": {},
   "outputs": [
    {
     "data": {
      "text/plain": [
       "OrderedDict([('Action', 0.3256),\n",
       "             ('Adventure', 0.3571),\n",
       "             ('Animation', 0.4545),\n",
       "             ('Biography', 0.3846),\n",
       "             ('Comedy', 0.3488),\n",
       "             ('Crime', 0.3585),\n",
       "             ('Drama', 0.326),\n",
       "             ('Family', 0.2),\n",
       "             ('Fantasy', 0.2857),\n",
       "             ('Film-Noir', 0.3333),\n",
       "             ('History', 0.2143),\n",
       "             ('Horror', 0.25),\n",
       "             ('Music', 0.6667),\n",
       "             ('Musical', 0),\n",
       "             ('Mystery', 0.4667),\n",
       "             ('Romance', 0.1739),\n",
       "             ('Sci-Fi', 0.2727),\n",
       "             ('Sport', 0.5714),\n",
       "             ('Thriller', 0.3077),\n",
       "             ('War', 0.25),\n",
       "             ('Western', 0.3333)])"
      ]
     },
     "execution_count": 48,
     "metadata": {},
     "output_type": "execute_result"
    }
   ],
   "source": [
    "# Pass at 1 by genre (in percentage)\n",
    "\n",
    "percent_pass1"
   ]
  },
  {
   "cell_type": "code",
   "execution_count": 49,
   "metadata": {},
   "outputs": [
    {
     "data": {
      "text/plain": [
       "OrderedDict([('Action', 0),\n",
       "             ('Adventure', 0.0536),\n",
       "             ('Animation', 0),\n",
       "             ('Biography', 0.1154),\n",
       "             ('Comedy', 0.0698),\n",
       "             ('Crime', 0.1321),\n",
       "             ('Drama', 0.105),\n",
       "             ('Family', 0.0667),\n",
       "             ('Fantasy', 0.1429),\n",
       "             ('Film-Noir', 0),\n",
       "             ('History', 0.0714),\n",
       "             ('Horror', 0.25),\n",
       "             ('Music', 0),\n",
       "             ('Musical', 0),\n",
       "             ('Mystery', 0.0333),\n",
       "             ('Romance', 0.087),\n",
       "             ('Sci-Fi', 0.0909),\n",
       "             ('Sport', 0),\n",
       "             ('Thriller', 0.1026),\n",
       "             ('War', 0),\n",
       "             ('Western', 0)])"
      ]
     },
     "execution_count": 49,
     "metadata": {},
     "output_type": "execute_result"
    }
   ],
   "source": [
    "# Pass at 2 by genre (in percentage)\n",
    "\n",
    "percent_pass2"
   ]
  },
  {
   "cell_type": "code",
   "execution_count": 50,
   "metadata": {},
   "outputs": [
    {
     "data": {
      "text/plain": [
       "OrderedDict([('Action', 0.4651),\n",
       "             ('Adventure', 0.3571),\n",
       "             ('Animation', 0.4545),\n",
       "             ('Biography', 0.2692),\n",
       "             ('Comedy', 0.3256),\n",
       "             ('Crime', 0.283),\n",
       "             ('Drama', 0.3039),\n",
       "             ('Family', 0.4),\n",
       "             ('Fantasy', 0.5),\n",
       "             ('Film-Noir', 0.3333),\n",
       "             ('History', 0.4286),\n",
       "             ('Horror', 0.25),\n",
       "             ('Music', 0.3333),\n",
       "             ('Musical', 0.5),\n",
       "             ('Mystery', 0.2333),\n",
       "             ('Romance', 0.4783),\n",
       "             ('Sci-Fi', 0.5455),\n",
       "             ('Sport', 0.2857),\n",
       "             ('Thriller', 0.3846),\n",
       "             ('War', 0.2),\n",
       "             ('Western', 0.1667)])"
      ]
     },
     "execution_count": 50,
     "metadata": {},
     "output_type": "execute_result"
    }
   ],
   "source": [
    "# Pass at 3 by genre (in percentage)\n",
    "\n",
    "percent_pass3"
   ]
  },
  {
   "cell_type": "markdown",
   "metadata": {},
   "source": [
    "**Question 1.13** (5 points) Show the top 10 highest-rated movies that passed the test completely (rating=3) "
   ]
  },
  {
   "cell_type": "code",
   "execution_count": 51,
   "metadata": {},
   "outputs": [
    {
     "data": {
      "text/html": [
       "<div>\n",
       "<style scoped>\n",
       "    .dataframe tbody tr th:only-of-type {\n",
       "        vertical-align: middle;\n",
       "    }\n",
       "\n",
       "    .dataframe tbody tr th {\n",
       "        vertical-align: top;\n",
       "    }\n",
       "\n",
       "    .dataframe thead th {\n",
       "        text-align: right;\n",
       "    }\n",
       "</style>\n",
       "<table border=\"1\" class=\"dataframe\">\n",
       "  <thead>\n",
       "    <tr style=\"text-align: right;\">\n",
       "      <th></th>\n",
       "      <th>Movie Name</th>\n",
       "      <th>Rating</th>\n",
       "    </tr>\n",
       "    <tr>\n",
       "      <th>IMDB id</th>\n",
       "      <th></th>\n",
       "      <th></th>\n",
       "    </tr>\n",
       "  </thead>\n",
       "  <tbody>\n",
       "    <tr>\n",
       "      <th>0468569</th>\n",
       "      <td>O Cavaleiro das Trevas</td>\n",
       "      <td>9.0</td>\n",
       "    </tr>\n",
       "    <tr>\n",
       "      <th>0108052</th>\n",
       "      <td>A Lista de Schindler</td>\n",
       "      <td>8.9</td>\n",
       "    </tr>\n",
       "    <tr>\n",
       "      <th>0110912</th>\n",
       "      <td>Pulp Fiction</td>\n",
       "      <td>8.8</td>\n",
       "    </tr>\n",
       "    <tr>\n",
       "      <th>0167261</th>\n",
       "      <td>O Senhor dos Anéis - As Duas Torres</td>\n",
       "      <td>8.7</td>\n",
       "    </tr>\n",
       "    <tr>\n",
       "      <th>1375666</th>\n",
       "      <td>A Origem</td>\n",
       "      <td>8.7</td>\n",
       "    </tr>\n",
       "    <tr>\n",
       "      <th>0133093</th>\n",
       "      <td>Matrix</td>\n",
       "      <td>8.6</td>\n",
       "    </tr>\n",
       "    <tr>\n",
       "      <th>0099685</th>\n",
       "      <td>Tudo Bons Rapazes</td>\n",
       "      <td>8.6</td>\n",
       "    </tr>\n",
       "    <tr>\n",
       "      <th>0102926</th>\n",
       "      <td>O Silêncio dos Inocentes</td>\n",
       "      <td>8.6</td>\n",
       "    </tr>\n",
       "    <tr>\n",
       "      <th>0038650</th>\n",
       "      <td>Do Céu Caiu Uma Estrela</td>\n",
       "      <td>8.6</td>\n",
       "    </tr>\n",
       "    <tr>\n",
       "      <th>0245429</th>\n",
       "      <td>A Viagem de Chihiro</td>\n",
       "      <td>8.5</td>\n",
       "    </tr>\n",
       "  </tbody>\n",
       "</table>\n",
       "</div>"
      ],
      "text/plain": [
       "                                  Movie Name  Rating\n",
       "IMDB id                                             \n",
       "0468569               O Cavaleiro das Trevas     9.0\n",
       "0108052                 A Lista de Schindler     8.9\n",
       "0110912                         Pulp Fiction     8.8\n",
       "0167261  O Senhor dos Anéis - As Duas Torres     8.7\n",
       "1375666                             A Origem     8.7\n",
       "0133093                               Matrix     8.6\n",
       "0099685                    Tudo Bons Rapazes     8.6\n",
       "0102926             O Silêncio dos Inocentes     8.6\n",
       "0038650              Do Céu Caiu Uma Estrela     8.6\n",
       "0245429                  A Viagem de Chihiro     8.5"
      ]
     },
     "execution_count": 51,
     "metadata": {},
     "output_type": "execute_result"
    }
   ],
   "source": [
    "imdb_top_movies[imdb_top_movies[\"Bechdel Test\"] == 3][[\"Movie Name\",\"Rating\"]]\\\n",
    ".sort_values(\"Rating\", ascending=False).head(10)"
   ]
  },
  {
   "cell_type": "markdown",
   "metadata": {},
   "source": [
    "**Question 1.14** (5 points) Compareing the movies that passed (rating=3) and failed the test (rating=0), are their ROI different? Explain."
   ]
  },
  {
   "cell_type": "code",
   "execution_count": 52,
   "metadata": {},
   "outputs": [],
   "source": [
    "ROI_passed = imdb_top_movies.loc[imdb_top_movies[\"Bechdel Test\"] == 3][\"ROI\"]\n",
    "ROI_passed = np.array(ROI_passed)\n",
    "ROI_failed = imdb_top_movies.loc[imdb_top_movies[\"Bechdel Test\"] == 0][\"ROI\"]\n",
    "ROI_failed = np.array(ROI_failed)"
   ]
  },
  {
   "cell_type": "code",
   "execution_count": 53,
   "metadata": {},
   "outputs": [
    {
     "data": {
      "text/plain": [
       "Ttest_indResult(statistic=1.5871024012802712, pvalue=0.11525933460978338)"
      ]
     },
     "execution_count": 53,
     "metadata": {},
     "output_type": "execute_result"
    }
   ],
   "source": [
    "stats.ttest_ind(ROI_passed, ROI_failed, nan_policy=\"omit\")"
   ]
  },
  {
   "cell_type": "markdown",
   "metadata": {},
   "source": [
    "##### Acording to the t-test, we cannot reject the null hypothesis for a 10% level of significance. That means there is no statistically significant difference in ROI between movies that passed and movies that failed the text. "
   ]
  },
  {
   "cell_type": "markdown",
   "metadata": {},
   "source": [
    "**Question 1.15** (10 points) Now load the ```bechdel_imdb.json``` that contains the all movies that are rated by the Bechdel Test website. Are women representation improved over the decades? Create a dataframe ```bechdel_imdb```, comparing the top 250 and other movies, in terms of percentage, how many passed/failed the test? "
   ]
  },
  {
   "cell_type": "code",
   "execution_count": 54,
   "metadata": {},
   "outputs": [
    {
     "data": {
      "text/plain": [
       "decade\n",
       "1880    0.00\n",
       "1890    0.25\n",
       "1900    0.10\n",
       "1910    1.58\n",
       "1920    1.20\n",
       "1930    2.07\n",
       "1940    1.98\n",
       "1950    1.97\n",
       "1960    1.81\n",
       "1970    1.96\n",
       "1980    2.07\n",
       "1990    2.17\n",
       "2000    2.21\n",
       "2010    2.28\n",
       "2020    2.58\n",
       "Name: rating, dtype: float64"
      ]
     },
     "execution_count": 54,
     "metadata": {},
     "output_type": "execute_result"
    }
   ],
   "source": [
    "bechdel_imdb = pd.read_json(\"bechdel_imdb.json\")\n",
    "\n",
    "bechdel_imdb[\"decade\"] = bechdel_imdb[\"year\"]//10*10\n",
    "\n",
    "round(bechdel_imdb[[\"rating\", \"decade\"]].groupby(\"decade\")[\"rating\"].mean(), 2) # Women representation over the decades\n",
    "\n",
    "# Note: The values below can only range from 0 to 3, according to the Bechdel Test ratings"
   ]
  },
  {
   "cell_type": "markdown",
   "metadata": {},
   "source": [
    "##### There is an observale improvement in women representation since the 1960s, and it has picked up the pace in the last two decades."
   ]
  },
  {
   "cell_type": "code",
   "execution_count": 55,
   "metadata": {},
   "outputs": [
    {
     "data": {
      "text/plain": [
       "0.748"
      ]
     },
     "execution_count": 55,
     "metadata": {},
     "output_type": "execute_result"
    }
   ],
   "source": [
    "# Percentage of movies that passed the test in some way, relative to all the 250 top movies.\n",
    "\n",
    "imdb_top_movies[imdb_top_movies[\"Bechdel Test\"] > 0][\"Bechdel Test\"].count() / len(imdb_top_movies)"
   ]
  },
  {
   "cell_type": "code",
   "execution_count": 56,
   "metadata": {},
   "outputs": [
    {
     "data": {
      "text/plain": [
       "0.7957"
      ]
     },
     "execution_count": 56,
     "metadata": {},
     "output_type": "execute_result"
    }
   ],
   "source": [
    "# Percentage of movies that passed the test in some way, relative to the 250 top movies that have a Bechdel Test rating (235, as seen in Question 1.10)\n",
    "\n",
    "round(imdb_top_movies[imdb_top_movies[\"Bechdel Test\"] > 0][\"Bechdel Test\"].count() / 235, 4)"
   ]
  },
  {
   "cell_type": "code",
   "execution_count": 57,
   "metadata": {},
   "outputs": [
    {
     "data": {
      "text/plain": [
       "0.8984"
      ]
     },
     "execution_count": 57,
     "metadata": {},
     "output_type": "execute_result"
    }
   ],
   "source": [
    "# Percentage of movies that passed the test in some way, relative to all the movies rated on the Bechdel Test website.\n",
    "\n",
    "round(bechdel_imdb[bechdel_imdb[\"rating\"]> 0][\"rating\"].count() / len(bechdel_imdb), 4) "
   ]
  }
 ],
 "metadata": {
  "kernelspec": {
   "display_name": "Python 3",
   "language": "python",
   "name": "python3"
  },
  "language_info": {
   "codemirror_mode": {
    "name": "ipython",
    "version": 3
   },
   "file_extension": ".py",
   "mimetype": "text/x-python",
   "name": "python",
   "nbconvert_exporter": "python",
   "pygments_lexer": "ipython3",
   "version": "3.8.5"
  }
 },
 "nbformat": 4,
 "nbformat_minor": 4
}
